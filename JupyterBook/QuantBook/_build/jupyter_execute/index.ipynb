{
 "cells": [
  {
   "cell_type": "markdown",
   "metadata": {},
   "source": [
    "# Preface\n",
    "\n",
    "Daphne is a project"
   ]
  },
  {
   "cell_type": "markdown",
   "id": "disciplinary-vision",
   "metadata": {},
   "source": [
    "\n",
    "```{toctree}\n",
    ":hidden:\n",
    ":titlesonly:\n",
    ":numbered: True\n",
    ":caption: Daphne. The Journey Ahead\n",
    "\n",
    "Handbook/Theories/Theories\n",
    "```\n",
    "\n",
    "\n",
    "```{toctree}\n",
    ":hidden:\n",
    ":titlesonly:\n",
    ":numbered: True\n",
    ":caption: Part I. Mathematics & Physics\n",
    "\n",
    "Handbook/Theories/Theories\n",
    "```\n",
    "\n",
    "\n",
    "```{toctree}\n",
    ":hidden:\n",
    ":titlesonly:\n",
    ":numbered: True\n",
    ":caption: Part II. Statistics & Machine Learning\n",
    "\n",
    "Handbook/Theories/Theories\n",
    "```\n",
    "\n",
    "\n",
    "```{toctree}\n",
    ":hidden:\n",
    ":titlesonly:\n",
    ":numbered: True\n",
    ":caption: Part III. Economics & Finance\n",
    "\n",
    "Handbook/Theories/Theories\n",
    "```\n",
    "\n",
    "\n",
    "```{toctree}\n",
    ":hidden:\n",
    ":titlesonly:\n",
    ":numbered: True\n",
    ":caption: Part IV. Algorithms & Optimization\n",
    "\n",
    "Handbook/Theories/Theories\n",
    "```\n",
    "\n",
    "\n",
    "```{toctree}\n",
    ":hidden:\n",
    ":titlesonly:\n",
    ":numbered: True\n",
    ":caption: Part V. Computer Science\n",
    "\n",
    "Handbook/Theories/Theories\n",
    "```\n",
    "\n",
    "\n",
    "```{toctree}\n",
    ":hidden:\n",
    ":titlesonly:\n",
    ":numbered: True\n",
    ":caption: Appendix. Interview Guide\n",
    "\n",
    "InterviewPrep/Brainteasers/Brainteasers\n",
    "InterviewPrep/Mathematics/Mathematics\n",
    "InterviewPrep/Statistics/Statistics\n",
    "InterviewPrep/QuantFinance/QuantFinance\n",
    "InterviewPrep/ComputerScience/ComputerScience\n",
    "```\n"
   ]
  }
 ],
 "metadata": {
  "kernelspec": {
   "display_name": "Python 3",
   "language": "python",
   "name": "python3"
  },
  "language_info": {
   "codemirror_mode": {
    "name": "ipython",
    "version": 3
   },
   "file_extension": ".py",
   "mimetype": "text/x-python",
   "name": "python",
   "nbconvert_exporter": "python",
   "pygments_lexer": "ipython3",
   "version": "3.7.6"
  },
  "widgets": {
   "application/vnd.jupyter.widget-state+json": {
    "state": {},
    "version_major": 2,
    "version_minor": 0
   }
  }
 },
 "nbformat": 4,
 "nbformat_minor": 4
}